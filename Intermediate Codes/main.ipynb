{
 "cells": [
  {
   "cell_type": "code",
   "execution_count": 1,
   "metadata": {
    "scrolled": true
   },
   "outputs": [],
   "source": [
    "import numpy as np\n",
    "import pandas as pd\n",
    "import matplotlib.pyplot as plt\n",
    "import seaborn as sns\n"
   ]
  },
  {
   "cell_type": "code",
   "execution_count": 2,
   "metadata": {},
   "outputs": [
    {
     "name": "stdout",
     "output_type": "stream",
     "text": [
      "3.8.15 | packaged by conda-forge | (default, Nov 22 2022, 08:52:09) \n",
      "[Clang 14.0.6 ]\n",
      "-------------------\n",
      "3.8.15\n"
     ]
    }
   ],
   "source": [
    "import sys\n",
    "print(sys.version)\n",
    "print('-------------------')\n",
    "import platform\n",
    "print(platform.python_version())"
   ]
  },
  {
   "cell_type": "code",
   "execution_count": 3,
   "metadata": {},
   "outputs": [
    {
     "name": "stdout",
     "output_type": "stream",
     "text": [
      "(1040, 29) \n",
      "\n"
     ]
    },
    {
     "data": {
      "text/html": [
       "<div>\n",
       "<style scoped>\n",
       "    .dataframe tbody tr th:only-of-type {\n",
       "        vertical-align: middle;\n",
       "    }\n",
       "\n",
       "    .dataframe tbody tr th {\n",
       "        vertical-align: top;\n",
       "    }\n",
       "\n",
       "    .dataframe thead th {\n",
       "        text-align: right;\n",
       "    }\n",
       "</style>\n",
       "<table border=\"1\" class=\"dataframe\">\n",
       "  <thead>\n",
       "    <tr style=\"text-align: right;\">\n",
       "      <th></th>\n",
       "      <th>Subject id</th>\n",
       "      <th>Jitter (local)</th>\n",
       "      <th>Jitter (local absolute)</th>\n",
       "      <th>Jitter (rap)</th>\n",
       "      <th>Jitter (ppq5)</th>\n",
       "      <th>Jitter (ddp)</th>\n",
       "      <th>Shimmer (local)</th>\n",
       "      <th>Shimmer (local dB)</th>\n",
       "      <th>Shimmer (apq3)</th>\n",
       "      <th>Shimmer (apq5)</th>\n",
       "      <th>...</th>\n",
       "      <th>Maximum pitch</th>\n",
       "      <th>Number of pulses</th>\n",
       "      <th>Number of periods</th>\n",
       "      <th>Mean period</th>\n",
       "      <th>Standard deviation of period</th>\n",
       "      <th>Fraction of locally unvoiced frames</th>\n",
       "      <th>Number of voice breaks</th>\n",
       "      <th>Degree of voice breaks</th>\n",
       "      <th>UPDRS</th>\n",
       "      <th>class</th>\n",
       "    </tr>\n",
       "  </thead>\n",
       "  <tbody>\n",
       "    <tr>\n",
       "      <th>0</th>\n",
       "      <td>1</td>\n",
       "      <td>1.488</td>\n",
       "      <td>0.000090</td>\n",
       "      <td>0.900</td>\n",
       "      <td>0.794</td>\n",
       "      <td>2.699</td>\n",
       "      <td>8.334</td>\n",
       "      <td>0.779</td>\n",
       "      <td>4.517</td>\n",
       "      <td>4.609</td>\n",
       "      <td>...</td>\n",
       "      <td>187.576</td>\n",
       "      <td>160</td>\n",
       "      <td>159</td>\n",
       "      <td>0.006065</td>\n",
       "      <td>0.000416</td>\n",
       "      <td>0.000</td>\n",
       "      <td>0</td>\n",
       "      <td>0.000</td>\n",
       "      <td>23</td>\n",
       "      <td>1</td>\n",
       "    </tr>\n",
       "    <tr>\n",
       "      <th>1</th>\n",
       "      <td>1</td>\n",
       "      <td>0.728</td>\n",
       "      <td>0.000038</td>\n",
       "      <td>0.353</td>\n",
       "      <td>0.376</td>\n",
       "      <td>1.059</td>\n",
       "      <td>5.864</td>\n",
       "      <td>0.642</td>\n",
       "      <td>2.058</td>\n",
       "      <td>3.180</td>\n",
       "      <td>...</td>\n",
       "      <td>234.505</td>\n",
       "      <td>170</td>\n",
       "      <td>169</td>\n",
       "      <td>0.005181</td>\n",
       "      <td>0.000403</td>\n",
       "      <td>2.247</td>\n",
       "      <td>0</td>\n",
       "      <td>0.000</td>\n",
       "      <td>23</td>\n",
       "      <td>1</td>\n",
       "    </tr>\n",
       "    <tr>\n",
       "      <th>2</th>\n",
       "      <td>1</td>\n",
       "      <td>1.220</td>\n",
       "      <td>0.000074</td>\n",
       "      <td>0.732</td>\n",
       "      <td>0.670</td>\n",
       "      <td>2.196</td>\n",
       "      <td>8.719</td>\n",
       "      <td>0.875</td>\n",
       "      <td>4.347</td>\n",
       "      <td>5.166</td>\n",
       "      <td>...</td>\n",
       "      <td>211.442</td>\n",
       "      <td>1431</td>\n",
       "      <td>1427</td>\n",
       "      <td>0.006071</td>\n",
       "      <td>0.000474</td>\n",
       "      <td>10.656</td>\n",
       "      <td>1</td>\n",
       "      <td>0.178</td>\n",
       "      <td>23</td>\n",
       "      <td>1</td>\n",
       "    </tr>\n",
       "    <tr>\n",
       "      <th>3</th>\n",
       "      <td>1</td>\n",
       "      <td>2.502</td>\n",
       "      <td>0.000123</td>\n",
       "      <td>1.156</td>\n",
       "      <td>1.634</td>\n",
       "      <td>3.469</td>\n",
       "      <td>13.513</td>\n",
       "      <td>1.273</td>\n",
       "      <td>5.263</td>\n",
       "      <td>8.771</td>\n",
       "      <td>...</td>\n",
       "      <td>220.230</td>\n",
       "      <td>94</td>\n",
       "      <td>92</td>\n",
       "      <td>0.004910</td>\n",
       "      <td>0.000320</td>\n",
       "      <td>0.000</td>\n",
       "      <td>0</td>\n",
       "      <td>0.000</td>\n",
       "      <td>23</td>\n",
       "      <td>1</td>\n",
       "    </tr>\n",
       "    <tr>\n",
       "      <th>4</th>\n",
       "      <td>1</td>\n",
       "      <td>3.509</td>\n",
       "      <td>0.000167</td>\n",
       "      <td>1.715</td>\n",
       "      <td>1.539</td>\n",
       "      <td>5.145</td>\n",
       "      <td>9.112</td>\n",
       "      <td>1.040</td>\n",
       "      <td>3.102</td>\n",
       "      <td>4.927</td>\n",
       "      <td>...</td>\n",
       "      <td>225.162</td>\n",
       "      <td>117</td>\n",
       "      <td>114</td>\n",
       "      <td>0.004757</td>\n",
       "      <td>0.000380</td>\n",
       "      <td>18.182</td>\n",
       "      <td>1</td>\n",
       "      <td>13.318</td>\n",
       "      <td>23</td>\n",
       "      <td>1</td>\n",
       "    </tr>\n",
       "  </tbody>\n",
       "</table>\n",
       "<p>5 rows × 29 columns</p>\n",
       "</div>"
      ],
      "text/plain": [
       "   Subject id  Jitter (local)  Jitter (local absolute)  Jitter (rap)  \\\n",
       "0           1           1.488                 0.000090         0.900   \n",
       "1           1           0.728                 0.000038         0.353   \n",
       "2           1           1.220                 0.000074         0.732   \n",
       "3           1           2.502                 0.000123         1.156   \n",
       "4           1           3.509                 0.000167         1.715   \n",
       "\n",
       "   Jitter (ppq5)  Jitter (ddp)  Shimmer (local)  Shimmer (local dB)  \\\n",
       "0          0.794         2.699            8.334               0.779   \n",
       "1          0.376         1.059            5.864               0.642   \n",
       "2          0.670         2.196            8.719               0.875   \n",
       "3          1.634         3.469           13.513               1.273   \n",
       "4          1.539         5.145            9.112               1.040   \n",
       "\n",
       "   Shimmer (apq3)  Shimmer (apq5)  ...  Maximum pitch  Number of pulses  \\\n",
       "0           4.517           4.609  ...        187.576               160   \n",
       "1           2.058           3.180  ...        234.505               170   \n",
       "2           4.347           5.166  ...        211.442              1431   \n",
       "3           5.263           8.771  ...        220.230                94   \n",
       "4           3.102           4.927  ...        225.162               117   \n",
       "\n",
       "   Number of periods  Mean period  Standard deviation of period  \\\n",
       "0                159     0.006065                      0.000416   \n",
       "1                169     0.005181                      0.000403   \n",
       "2               1427     0.006071                      0.000474   \n",
       "3                 92     0.004910                      0.000320   \n",
       "4                114     0.004757                      0.000380   \n",
       "\n",
       "   Fraction of locally unvoiced frames  Number of voice breaks  \\\n",
       "0                                0.000                       0   \n",
       "1                                2.247                       0   \n",
       "2                               10.656                       1   \n",
       "3                                0.000                       0   \n",
       "4                               18.182                       1   \n",
       "\n",
       "   Degree of voice breaks  UPDRS  class  \n",
       "0                   0.000     23      1  \n",
       "1                   0.000     23      1  \n",
       "2                   0.178     23      1  \n",
       "3                   0.000     23      1  \n",
       "4                  13.318     23      1  \n",
       "\n",
       "[5 rows x 29 columns]"
      ]
     },
     "execution_count": 3,
     "metadata": {},
     "output_type": "execute_result"
    }
   ],
   "source": [
    "#\"Parkinson_Multiple_Sound_Recording/train_data.txt\"\n",
    "\n",
    "data=pd.read_csv('Parkinson_Multiple_Sound_Recording/train_data.txt')\n",
    "\n",
    "print(data.shape, '\\n')\n",
    "data.head()\n"
   ]
  },
  {
   "cell_type": "code",
   "execution_count": 4,
   "metadata": {
    "scrolled": false
   },
   "outputs": [
    {
     "name": "stdout",
     "output_type": "stream",
     "text": [
      "<class 'pandas.core.frame.DataFrame'>\n",
      "RangeIndex: 1040 entries, 0 to 1039\n",
      "Data columns (total 29 columns):\n",
      " #   Column                               Non-Null Count  Dtype  \n",
      "---  ------                               --------------  -----  \n",
      " 0   Subject id                           1040 non-null   int64  \n",
      " 1   Jitter (local)                       1040 non-null   float64\n",
      " 2   Jitter (local absolute)              1040 non-null   float64\n",
      " 3   Jitter (rap)                         1040 non-null   float64\n",
      " 4   Jitter (ppq5)                        1040 non-null   float64\n",
      " 5   Jitter (ddp)                         1040 non-null   float64\n",
      " 6   Shimmer (local)                      1040 non-null   float64\n",
      " 7   Shimmer (local dB)                   1040 non-null   float64\n",
      " 8   Shimmer (apq3)                       1040 non-null   float64\n",
      " 9   Shimmer (apq5)                       1040 non-null   float64\n",
      " 10   Shimmer (apq11)                     1040 non-null   float64\n",
      " 11  Shimmer (dda)                        1040 non-null   float64\n",
      " 12  AC                                   1040 non-null   float64\n",
      " 13  NTH                                  1040 non-null   float64\n",
      " 14  HTN                                  1040 non-null   float64\n",
      " 15  Median pitch                         1040 non-null   float64\n",
      " 16  Mean pitch                           1040 non-null   float64\n",
      " 17  Standard deviation                   1040 non-null   float64\n",
      " 18  Minimum pitch                        1040 non-null   float64\n",
      " 19  Maximum pitch                        1040 non-null   float64\n",
      " 20  Number of pulses                     1040 non-null   int64  \n",
      " 21  Number of periods                    1040 non-null   int64  \n",
      " 22  Mean period                          1040 non-null   float64\n",
      " 23  Standard deviation of period         1040 non-null   float64\n",
      " 24  Fraction of locally unvoiced frames  1040 non-null   float64\n",
      " 25  Number of voice breaks               1040 non-null   int64  \n",
      " 26  Degree of voice breaks               1040 non-null   float64\n",
      " 27  UPDRS                                1040 non-null   int64  \n",
      " 28  class                                1040 non-null   int64  \n",
      "dtypes: float64(23), int64(6)\n",
      "memory usage: 235.8 KB\n"
     ]
    }
   ],
   "source": [
    "data.info()\n"
   ]
  },
  {
   "cell_type": "code",
   "execution_count": 5,
   "metadata": {},
   "outputs": [
    {
     "data": {
      "text/plain": [
       "1    520\n",
       "0    520\n",
       "Name: class, dtype: int64"
      ]
     },
     "execution_count": 5,
     "metadata": {},
     "output_type": "execute_result"
    },
    {
     "data": {
      "image/png": "[encoded data removed]",
      "text/plain": [
       "<Figure size 640x480 with 1 Axes>"
      ]
     },
     "metadata": {},
     "output_type": "display_data"
    }
   ],
   "source": [
    "sns.countplot(x=\"class\", data=data)\n",
    "data['class'].value_counts()\n",
    "#0 is healthy 1 is parkison affected"
   ]
  },
  {
   "cell_type": "code",
   "execution_count": 6,
   "metadata": {},
   "outputs": [],
   "source": [
    "# sns.countplot(x=\"UPDRS\", data=data)"
   ]
  },
  {
   "cell_type": "code",
   "execution_count": 7,
   "metadata": {},
   "outputs": [],
   "source": [
    "# udata=data.drop('Subject id',axis=1)\n",
    "# udata.head()"
   ]
  },
  {
   "cell_type": "code",
   "execution_count": 8,
   "metadata": {},
   "outputs": [],
   "source": [
    "# from sklearn.decomposition import PCA\n",
    "\n",
    "# print (data.shape)\n",
    "# # udata.shape\n",
    "\n",
    "# X = np.array([[-1, -1], [-2, -1], [-3, -2], [1, 1], [2, 1], [3, 2]])\n",
    "\n",
    "# print (X.shape)\n",
    "\n",
    "# pca = PCA(n_components=7)\n",
    "# pca.fit(data)\n",
    "\n",
    "# # We can now transform the data using the PCA object\n",
    "# rdata = pca.transform(data)\n",
    "\n",
    "# # The transformed data has been reduced to the specified number of dimensions\n",
    "# print(rdata.shape)  # Output: (6, 2)\n",
    "\n",
    "# print(pca.explained_variance_ratio_)"
   ]
  },
  {
   "cell_type": "code",
   "execution_count": 9,
   "metadata": {},
   "outputs": [],
   "source": [
    "# data.info()"
   ]
  },
  {
   "cell_type": "code",
   "execution_count": 10,
   "metadata": {},
   "outputs": [
    {
     "name": "stdout",
     "output_type": "stream",
     "text": [
      "[ True False False False False False  True False False  True  True  True\n",
      "  True False False False False False False  True  True  True False False\n",
      "  True False]\n",
      "[ 1 16 12  8  3  5  1 10  9  1  1  1  1  6 14 13 17 11 15  1  1  1  7  4\n",
      "  1  2]\n"
     ]
    }
   ],
   "source": [
    "from sklearn.svm import SVC\n",
    "from sklearn.feature_selection import RFE\n",
    "\n",
    "# Spliting the data into features and patient status and subID\n",
    "updrs = data.drop('UPDRS', axis=1) \n",
    "w = data['Subject id'] # PD patient ID\n",
    "X = data.drop(['Subject id', 'class','UPDRS'], axis=1)  # Features\n",
    "y = data['class']  # PD or No\n",
    "\n",
    "svc = SVC(kernel='linear')\n",
    "rfe = RFE(estimator=svc, n_features_to_select=10)\n",
    "\n",
    "# Fit the RFE object to the data\n",
    "rfe.fit(X, y)\n",
    "\n",
    "# Print the selected features\n",
    "print(rfe.support_)\n",
    "\n",
    "# Print the ranking of the features\n",
    "print(rfe.ranking_)\n",
    "\n",
    "# Selected features\n",
    "rdata = X.loc[:, rfe.support_]\n",
    "\n",
    "\n",
    "# print(rdata)"
   ]
  },
  {
   "cell_type": "code",
   "execution_count": 18,
   "metadata": {},
   "outputs": [
    {
     "name": "stdout",
     "output_type": "stream",
     "text": [
      "<class 'pandas.core.frame.DataFrame'>\n"
     ]
    }
   ],
   "source": [
    "print(type(rdata))\n"
   ]
  },
  {
   "cell_type": "code",
   "execution_count": 19,
   "metadata": {},
   "outputs": [
    {
     "name": "stdout",
     "output_type": "stream",
     "text": [
      "<class 'pandas.core.frame.DataFrame'>\n",
      "RangeIndex: 1040 entries, 0 to 1039\n",
      "Data columns (total 12 columns):\n",
      " #   Column                  Non-Null Count  Dtype  \n",
      "---  ------                  --------------  -----  \n",
      " 0   subID                   1040 non-null   int64  \n",
      " 1   Jitter (local)          1040 non-null   float64\n",
      " 2   Shimmer (local dB)      1040 non-null   float64\n",
      " 3    Shimmer (apq11)        1040 non-null   float64\n",
      " 4   Shimmer (dda)           1040 non-null   float64\n",
      " 5   AC                      1040 non-null   float64\n",
      " 6   NTH                     1040 non-null   float64\n",
      " 7   Number of pulses        1040 non-null   int64  \n",
      " 8   Number of periods       1040 non-null   int64  \n",
      " 9   Mean period             1040 non-null   float64\n",
      " 10  Number of voice breaks  1040 non-null   int64  \n",
      " 11  status                  1040 non-null   int64  \n",
      "dtypes: float64(7), int64(5)\n",
      "memory usage: 97.6 KB\n"
     ]
    }
   ],
   "source": [
    "rdata.info()"
   ]
  },
  {
   "cell_type": "code",
   "execution_count": 21,
   "metadata": {},
   "outputs": [
    {
     "ename": "ValueError",
     "evalue": "cannot insert status, already exists",
     "output_type": "error",
     "traceback": [
      "\u001b[0;31m---------------------------------------------------------------------------\u001b[0m",
      "\u001b[0;31mValueError\u001b[0m                                Traceback (most recent call last)",
      "Cell \u001b[0;32mIn[21], line 1\u001b[0m\n\u001b[0;32m----> 1\u001b[0m \u001b[43mrdata\u001b[49m\u001b[38;5;241;43m.\u001b[39;49m\u001b[43minsert\u001b[49m\u001b[43m(\u001b[49m\u001b[38;5;241;43m10\u001b[39;49m\u001b[43m,\u001b[49m\u001b[43m \u001b[49m\u001b[38;5;124;43m\"\u001b[39;49m\u001b[38;5;124;43mstatus\u001b[39;49m\u001b[38;5;124;43m\"\u001b[39;49m\u001b[43m,\u001b[49m\u001b[43m \u001b[49m\u001b[43my\u001b[49m\u001b[43m)\u001b[49m\n\u001b[1;32m      2\u001b[0m rdata\u001b[38;5;241m.\u001b[39minsert(\u001b[38;5;241m0\u001b[39m, \u001b[38;5;124m\"\u001b[39m\u001b[38;5;124msubID\u001b[39m\u001b[38;5;124m\"\u001b[39m, w)\n\u001b[1;32m      3\u001b[0m \u001b[38;5;66;03m# rdata\u001b[39;00m\n",
      "File \u001b[0;32m~/.conda/envs/ML/lib/python3.8/site-packages/pandas/core/frame.py:4814\u001b[0m, in \u001b[0;36mDataFrame.insert\u001b[0;34m(self, loc, column, value, allow_duplicates)\u001b[0m\n\u001b[1;32m   4808\u001b[0m     \u001b[38;5;28;01mraise\u001b[39;00m \u001b[38;5;167;01mValueError\u001b[39;00m(\n\u001b[1;32m   4809\u001b[0m         \u001b[38;5;124m\"\u001b[39m\u001b[38;5;124mCannot specify \u001b[39m\u001b[38;5;124m'\u001b[39m\u001b[38;5;124mallow_duplicates=True\u001b[39m\u001b[38;5;124m'\u001b[39m\u001b[38;5;124m when \u001b[39m\u001b[38;5;124m\"\u001b[39m\n\u001b[1;32m   4810\u001b[0m         \u001b[38;5;124m\"\u001b[39m\u001b[38;5;124m'\u001b[39m\u001b[38;5;124mself.flags.allows_duplicate_labels\u001b[39m\u001b[38;5;124m'\u001b[39m\u001b[38;5;124m is False.\u001b[39m\u001b[38;5;124m\"\u001b[39m\n\u001b[1;32m   4811\u001b[0m     )\n\u001b[1;32m   4812\u001b[0m \u001b[38;5;28;01mif\u001b[39;00m \u001b[38;5;129;01mnot\u001b[39;00m allow_duplicates \u001b[38;5;129;01mand\u001b[39;00m column \u001b[38;5;129;01min\u001b[39;00m \u001b[38;5;28mself\u001b[39m\u001b[38;5;241m.\u001b[39mcolumns:\n\u001b[1;32m   4813\u001b[0m     \u001b[38;5;66;03m# Should this be a different kind of error??\u001b[39;00m\n\u001b[0;32m-> 4814\u001b[0m     \u001b[38;5;28;01mraise\u001b[39;00m \u001b[38;5;167;01mValueError\u001b[39;00m(\u001b[38;5;124mf\u001b[39m\u001b[38;5;124m\"\u001b[39m\u001b[38;5;124mcannot insert \u001b[39m\u001b[38;5;132;01m{\u001b[39;00mcolumn\u001b[38;5;132;01m}\u001b[39;00m\u001b[38;5;124m, already exists\u001b[39m\u001b[38;5;124m\"\u001b[39m)\n\u001b[1;32m   4815\u001b[0m \u001b[38;5;28;01mif\u001b[39;00m \u001b[38;5;129;01mnot\u001b[39;00m \u001b[38;5;28misinstance\u001b[39m(loc, \u001b[38;5;28mint\u001b[39m):\n\u001b[1;32m   4816\u001b[0m     \u001b[38;5;28;01mraise\u001b[39;00m \u001b[38;5;167;01mTypeError\u001b[39;00m(\u001b[38;5;124m\"\u001b[39m\u001b[38;5;124mloc must be int\u001b[39m\u001b[38;5;124m\"\u001b[39m)\n",
      "\u001b[0;31mValueError\u001b[0m: cannot insert status, already exists"
     ]
    }
   ],
   "source": [
    "rdata.insert(10, \"status\", y)\n",
    "rdata.insert(0, \"subID\", w)\n",
    "# rdata"
   ]
  },
  {
   "cell_type": "code",
   "execution_count": 22,
   "metadata": {},
   "outputs": [
    {
     "name": "stdout",
     "output_type": "stream",
     "text": [
      "<class 'pandas.core.frame.DataFrame'>\n",
      "RangeIndex: 1040 entries, 0 to 1039\n",
      "Data columns (total 12 columns):\n",
      " #   Column                  Non-Null Count  Dtype  \n",
      "---  ------                  --------------  -----  \n",
      " 0   subID                   1040 non-null   int64  \n",
      " 1   Jitter (local)          1040 non-null   float64\n",
      " 2   Shimmer (local dB)      1040 non-null   float64\n",
      " 3    Shimmer (apq11)        1040 non-null   float64\n",
      " 4   Shimmer (dda)           1040 non-null   float64\n",
      " 5   AC                      1040 non-null   float64\n",
      " 6   NTH                     1040 non-null   float64\n",
      " 7   Number of pulses        1040 non-null   int64  \n",
      " 8   Number of periods       1040 non-null   int64  \n",
      " 9   Mean period             1040 non-null   float64\n",
      " 10  Number of voice breaks  1040 non-null   int64  \n",
      " 11  status                  1040 non-null   int64  \n",
      "dtypes: float64(7), int64(5)\n",
      "memory usage: 97.6 KB\n"
     ]
    }
   ],
   "source": [
    "rdata.info()"
   ]
  },
  {
   "cell_type": "code",
   "execution_count": 23,
   "metadata": {},
   "outputs": [
    {
     "name": "stdout",
     "output_type": "stream",
     "text": [
      "Test accuracy: 95.67307692307693%\n"
     ]
    }
   ],
   "source": [
    "from sklearn.model_selection import train_test_split\n",
    "from sklearn.svm import SVC\n",
    "\n",
    "X = rdata.drop(['status'], axis=1)  # Features\n",
    "y = rdata['status'] \n",
    "\n",
    "\n",
    "X_train, X_test, y_train, y_test = train_test_split(X, y, test_size=0.2)\n",
    "\n",
    "# SVM object with the RBF kernel\n",
    "svm = SVC(kernel='rbf')\n",
    "\n",
    "# Fit the SVM to the training data\n",
    "svm.fit(X_train, y_train)\n",
    "\n",
    "# Use the SVM to predict labels for the test data\n",
    "y_pred = svm.predict(X_test)\n",
    "\n",
    "# print(y_pred)\n",
    "\n",
    "# print(y_test)\n",
    "accuracy = svm.score(X_test, y_test)\n",
    "\n",
    "print(f'Test accuracy: {accuracy*100}%')"
   ]
  },
  {
   "cell_type": "code",
   "execution_count": 24,
   "metadata": {},
   "outputs": [
    {
     "name": "stdout",
     "output_type": "stream",
     "text": [
      "Accuracy: 100.0 %\n"
     ]
    }
   ],
   "source": [
    "import xgboost as xgb\n",
    "\n",
    "\n",
    "# DMatrix\n",
    "dtrain = xgb.DMatrix(X_train, label=y_train)\n",
    "dtest = xgb.DMatrix(X_test, label=y_test)\n",
    "\n",
    "# XGBoost model\n",
    "param = {\n",
    "    'max_depth': 3,\n",
    "    'eta': 0.1,\n",
    "    'objective': 'multi:softmax',\n",
    "    'num_class': 3\n",
    "}\n",
    "\n",
    "\n",
    "num_round = 20\n",
    "bst = xgb.train(param, dtrain, num_round)\n",
    "\n",
    "# testing\n",
    "predictions = bst.predict(dtest)\n",
    "\n",
    "# print(predictions)\n",
    "# print(y_test)\n",
    "accuracy = sum(predictions == y_test) / len(y_test)\n",
    "print(\"Accuracy:\", accuracy*100,'%')"
   ]
  },
  {
   "cell_type": "code",
   "execution_count": 27,
   "metadata": {},
   "outputs": [
    {
     "name": "stdout",
     "output_type": "stream",
     "text": [
      "Accuracy: 97.11538461538461 %\n"
     ]
    }
   ],
   "source": [
    "from sklearn.ensemble import VotingClassifier\n",
    "\n",
    "\n",
    "# Using the trained svm kernal\n",
    "\n",
    "# # Train an XGBoost classifier\n",
    "xgb_clf = xgb.XGBClassifier()\n",
    "xgb_clf.fit(X_train, y_train)\n",
    "\n",
    "# Combine the classifiers into an ensemble\n",
    "ensemble = VotingClassifier(estimators=[('svm', svm), ('xgb', xgb_clf)], voting='hard')\n",
    "ensemble.fit(X_train, y_train)\n",
    "\n",
    "# Make predictions on the test set\n",
    "predictions = ensemble.predict(X_test)\n",
    "\n",
    "# Evaluate the model\n",
    "accuracy = sum(predictions == y_test) / len(y_test)\n",
    "print(\"Accuracy:\", accuracy*100,'%')"
   ]
  },
  {
   "cell_type": "code",
   "execution_count": null,
   "metadata": {},
   "outputs": [],
   "source": []
  }
 ],
 "metadata": {
  "kernelspec": {
   "display_name": "Python 3 (ipykernel)",
   "language": "python",
   "name": "python3"
  },
  "language_info": {
   "codemirror_mode": {
    "name": "ipython",
    "version": 3
   },
   "file_extension": ".py",
   "mimetype": "text/x-python",
   "name": "python",
   "nbconvert_exporter": "python",
   "pygments_lexer": "ipython3",
   "version": "3.10.9"
  },
  "vscode": {
   "interpreter": {
    "hash": "f276a28e39d52f44bb24c07cd51da7f18b3e56e0254ec94c3ccc29e91d6838ab"
   }
  }
 },
 "nbformat": 4,
 "nbformat_minor": 2
}
