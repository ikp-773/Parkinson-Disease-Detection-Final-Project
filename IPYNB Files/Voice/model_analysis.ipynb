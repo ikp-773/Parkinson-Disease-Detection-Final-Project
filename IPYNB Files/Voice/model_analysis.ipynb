{
 "cells": [
  {
   "cell_type": "code",
   "execution_count": 1,
   "metadata": {
    "scrolled": true
   },
   "outputs": [],
   "source": [
    "import numpy as np\n",
    "import pandas as pd\n",
    "import matplotlib.pyplot as plt\n",
    "import seaborn as sns\n"
   ]
  },
  {
   "cell_type": "code",
   "execution_count": 2,
   "metadata": {},
   "outputs": [
    {
     "name": "stdout",
     "output_type": "stream",
     "text": [
      "3.10.9 | packaged by conda-forge | (main, Feb  2 2023, 20:26:08) [Clang 14.0.6 ]\n",
      "-------------------\n",
      "3.10.9\n"
     ]
    }
   ],
   "source": [
    "import sys\n",
    "print(sys.version)\n",
    "print('-------------------')\n",
    "import platform\n",
    "print(platform.python_version())"
   ]
  },
  {
   "cell_type": "markdown",
   "metadata": {},
   "source": [
    "# Dataset"
   ]
  },
  {
   "cell_type": "code",
   "execution_count": 3,
   "metadata": {},
   "outputs": [
    {
     "name": "stdout",
     "output_type": "stream",
     "text": [
      "(1040, 29) \n",
      "\n",
      "TEST DATA (336, 28) \n",
      "\n"
     ]
    },
    {
     "data": {
      "text/html": [
       "<div>\n",
       "<style scoped>\n",
       "    .dataframe tbody tr th:only-of-type {\n",
       "        vertical-align: middle;\n",
       "    }\n",
       "\n",
       "    .dataframe tbody tr th {\n",
       "        vertical-align: top;\n",
       "    }\n",
       "\n",
       "    .dataframe thead th {\n",
       "        text-align: right;\n",
       "    }\n",
       "</style>\n",
       "<table border=\"1\" class=\"dataframe\">\n",
       "  <thead>\n",
       "    <tr style=\"text-align: right;\">\n",
       "      <th></th>\n",
       "      <th>Subject id</th>\n",
       "      <th>Jitter (local)</th>\n",
       "      <th>Jitter (local absolute)</th>\n",
       "      <th>Jitter (rap)</th>\n",
       "      <th>Jitter (ppq5)</th>\n",
       "      <th>Jitter (ddp)</th>\n",
       "      <th>Shimmer (local)</th>\n",
       "      <th>Shimmer (local dB)</th>\n",
       "      <th>Shimmer (apq3)</th>\n",
       "      <th>Shimmer (apq5)</th>\n",
       "      <th>...</th>\n",
       "      <th>Minimum pitch</th>\n",
       "      <th>Maximum pitch</th>\n",
       "      <th>Number of pulses</th>\n",
       "      <th>Number of periods</th>\n",
       "      <th>Mean period</th>\n",
       "      <th>Standard deviation of period</th>\n",
       "      <th>Fraction of locally unvoiced frames</th>\n",
       "      <th>Number of voice breaks</th>\n",
       "      <th>Degree of voice breaks</th>\n",
       "      <th>class</th>\n",
       "    </tr>\n",
       "  </thead>\n",
       "  <tbody>\n",
       "    <tr>\n",
       "      <th>0</th>\n",
       "      <td>1</td>\n",
       "      <td>0.135</td>\n",
       "      <td>0.000007</td>\n",
       "      <td>0.067</td>\n",
       "      <td>0.078</td>\n",
       "      <td>0.202</td>\n",
       "      <td>2.033</td>\n",
       "      <td>0.178</td>\n",
       "      <td>1.074</td>\n",
       "      <td>1.336</td>\n",
       "      <td>...</td>\n",
       "      <td>184.502</td>\n",
       "      <td>187.880</td>\n",
       "      <td>183.0</td>\n",
       "      <td>182.0</td>\n",
       "      <td>0.005368</td>\n",
       "      <td>0.000025</td>\n",
       "      <td>0.0</td>\n",
       "      <td>0.0</td>\n",
       "      <td>0.0</td>\n",
       "      <td>1</td>\n",
       "    </tr>\n",
       "    <tr>\n",
       "      <th>1</th>\n",
       "      <td>1</td>\n",
       "      <td>0.143</td>\n",
       "      <td>0.000007</td>\n",
       "      <td>0.073</td>\n",
       "      <td>0.081</td>\n",
       "      <td>0.219</td>\n",
       "      <td>1.236</td>\n",
       "      <td>0.107</td>\n",
       "      <td>0.612</td>\n",
       "      <td>0.904</td>\n",
       "      <td>...</td>\n",
       "      <td>198.665</td>\n",
       "      <td>202.214</td>\n",
       "      <td>194.0</td>\n",
       "      <td>193.0</td>\n",
       "      <td>0.004988</td>\n",
       "      <td>0.000020</td>\n",
       "      <td>0.0</td>\n",
       "      <td>0.0</td>\n",
       "      <td>0.0</td>\n",
       "      <td>1</td>\n",
       "    </tr>\n",
       "    <tr>\n",
       "      <th>2</th>\n",
       "      <td>1</td>\n",
       "      <td>0.162</td>\n",
       "      <td>0.000008</td>\n",
       "      <td>0.087</td>\n",
       "      <td>0.089</td>\n",
       "      <td>0.260</td>\n",
       "      <td>1.338</td>\n",
       "      <td>0.117</td>\n",
       "      <td>0.630</td>\n",
       "      <td>0.948</td>\n",
       "      <td>...</td>\n",
       "      <td>197.220</td>\n",
       "      <td>206.060</td>\n",
       "      <td>198.0</td>\n",
       "      <td>197.0</td>\n",
       "      <td>0.004940</td>\n",
       "      <td>0.000046</td>\n",
       "      <td>0.0</td>\n",
       "      <td>0.0</td>\n",
       "      <td>0.0</td>\n",
       "      <td>1</td>\n",
       "    </tr>\n",
       "    <tr>\n",
       "      <th>3</th>\n",
       "      <td>1</td>\n",
       "      <td>0.140</td>\n",
       "      <td>0.000007</td>\n",
       "      <td>0.075</td>\n",
       "      <td>0.089</td>\n",
       "      <td>0.224</td>\n",
       "      <td>1.086</td>\n",
       "      <td>0.094</td>\n",
       "      <td>0.556</td>\n",
       "      <td>0.747</td>\n",
       "      <td>...</td>\n",
       "      <td>202.324</td>\n",
       "      <td>206.182</td>\n",
       "      <td>200.0</td>\n",
       "      <td>199.0</td>\n",
       "      <td>0.004900</td>\n",
       "      <td>0.000023</td>\n",
       "      <td>0.0</td>\n",
       "      <td>0.0</td>\n",
       "      <td>0.0</td>\n",
       "      <td>1</td>\n",
       "    </tr>\n",
       "    <tr>\n",
       "      <th>4</th>\n",
       "      <td>1</td>\n",
       "      <td>0.150</td>\n",
       "      <td>0.000007</td>\n",
       "      <td>0.080</td>\n",
       "      <td>0.097</td>\n",
       "      <td>0.240</td>\n",
       "      <td>1.049</td>\n",
       "      <td>0.091</td>\n",
       "      <td>0.533</td>\n",
       "      <td>0.698</td>\n",
       "      <td>...</td>\n",
       "      <td>205.407</td>\n",
       "      <td>209.927</td>\n",
       "      <td>204.0</td>\n",
       "      <td>203.0</td>\n",
       "      <td>0.004820</td>\n",
       "      <td>0.000022</td>\n",
       "      <td>0.0</td>\n",
       "      <td>0.0</td>\n",
       "      <td>0.0</td>\n",
       "      <td>1</td>\n",
       "    </tr>\n",
       "  </tbody>\n",
       "</table>\n",
       "<p>5 rows × 28 columns</p>\n",
       "</div>"
      ],
      "text/plain": [
       "   Subject id  Jitter (local)  Jitter (local absolute)  Jitter (rap)  \\\n",
       "0           1           0.135                 0.000007         0.067   \n",
       "1           1           0.143                 0.000007         0.073   \n",
       "2           1           0.162                 0.000008         0.087   \n",
       "3           1           0.140                 0.000007         0.075   \n",
       "4           1           0.150                 0.000007         0.080   \n",
       "\n",
       "   Jitter (ppq5)  Jitter (ddp)  Shimmer (local)  Shimmer (local dB)  \\\n",
       "0          0.078         0.202            2.033               0.178   \n",
       "1          0.081         0.219            1.236               0.107   \n",
       "2          0.089         0.260            1.338               0.117   \n",
       "3          0.089         0.224            1.086               0.094   \n",
       "4          0.097         0.240            1.049               0.091   \n",
       "\n",
       "   Shimmer (apq3)  Shimmer (apq5)  ...  Minimum pitch  Maximum pitch  \\\n",
       "0           1.074           1.336  ...        184.502        187.880   \n",
       "1           0.612           0.904  ...        198.665        202.214   \n",
       "2           0.630           0.948  ...        197.220        206.060   \n",
       "3           0.556           0.747  ...        202.324        206.182   \n",
       "4           0.533           0.698  ...        205.407        209.927   \n",
       "\n",
       "   Number of pulses  Number of periods  Mean period  \\\n",
       "0             183.0              182.0     0.005368   \n",
       "1             194.0              193.0     0.004988   \n",
       "2             198.0              197.0     0.004940   \n",
       "3             200.0              199.0     0.004900   \n",
       "4             204.0              203.0     0.004820   \n",
       "\n",
       "   Standard deviation of period  Fraction of locally unvoiced frames  \\\n",
       "0                      0.000025                                  0.0   \n",
       "1                      0.000020                                  0.0   \n",
       "2                      0.000046                                  0.0   \n",
       "3                      0.000023                                  0.0   \n",
       "4                      0.000022                                  0.0   \n",
       "\n",
       "   Number of voice breaks  Degree of voice breaks  class  \n",
       "0                     0.0                     0.0      1  \n",
       "1                     0.0                     0.0      1  \n",
       "2                     0.0                     0.0      1  \n",
       "3                     0.0                     0.0      1  \n",
       "4                     0.0                     0.0      1  \n",
       "\n",
       "[5 rows x 28 columns]"
      ]
     },
     "execution_count": 3,
     "metadata": {},
     "output_type": "execute_result"
    }
   ],
   "source": [
    "#\"Parkinson_Multiple_Sound_Recording/train_data.txt\"\n",
    "\n",
    "data=pd.read_csv('Parkinson_Multiple_Sound_Recording/train_data.txt')\n",
    "\n",
    "print(data.shape, '\\n')\n",
    "\n",
    "data.head()\n",
    "\n",
    "t_data=pd.read_csv('Parkinson_Multiple_Sound_Recording/test_data.txt')\n",
    "\n",
    "print('TEST DATA',t_data.shape, '\\n')\n",
    "\n",
    "t_data.head()\n",
    "\n"
   ]
  },
  {
   "cell_type": "code",
   "execution_count": 4,
   "metadata": {
    "scrolled": false
   },
   "outputs": [
    {
     "name": "stdout",
     "output_type": "stream",
     "text": [
      "<class 'pandas.core.frame.DataFrame'>\n",
      "RangeIndex: 1040 entries, 0 to 1039\n",
      "Data columns (total 29 columns):\n",
      " #   Column                               Non-Null Count  Dtype  \n",
      "---  ------                               --------------  -----  \n",
      " 0   Subject id                           1040 non-null   int64  \n",
      " 1   Jitter (local)                       1040 non-null   float64\n",
      " 2   Jitter (local absolute)              1040 non-null   float64\n",
      " 3   Jitter (rap)                         1040 non-null   float64\n",
      " 4   Jitter (ppq5)                        1040 non-null   float64\n",
      " 5   Jitter (ddp)                         1040 non-null   float64\n",
      " 6   Shimmer (local)                      1040 non-null   float64\n",
      " 7   Shimmer (local dB)                   1040 non-null   float64\n",
      " 8   Shimmer (apq3)                       1040 non-null   float64\n",
      " 9   Shimmer (apq5)                       1040 non-null   float64\n",
      " 10   Shimmer (apq11)                     1040 non-null   float64\n",
      " 11  Shimmer (dda)                        1040 non-null   float64\n",
      " 12  AC                                   1040 non-null   float64\n",
      " 13  NTH                                  1040 non-null   float64\n",
      " 14  HTN                                  1040 non-null   float64\n",
      " 15  Median pitch                         1040 non-null   float64\n",
      " 16  Mean pitch                           1040 non-null   float64\n",
      " 17  Standard deviation                   1040 non-null   float64\n",
      " 18  Minimum pitch                        1040 non-null   float64\n",
      " 19  Maximum pitch                        1040 non-null   float64\n",
      " 20  Number of pulses                     1040 non-null   int64  \n",
      " 21  Number of periods                    1040 non-null   int64  \n",
      " 22  Mean period                          1040 non-null   float64\n",
      " 23  Standard deviation of period         1040 non-null   float64\n",
      " 24  Fraction of locally unvoiced frames  1040 non-null   float64\n",
      " 25  Number of voice breaks               1040 non-null   int64  \n",
      " 26  Degree of voice breaks               1040 non-null   float64\n",
      " 27  UPDRS                                1040 non-null   int64  \n",
      " 28  class                                1040 non-null   int64  \n",
      "dtypes: float64(23), int64(6)\n",
      "memory usage: 235.8 KB\n"
     ]
    }
   ],
   "source": [
    "data.info()\n"
   ]
  },
  {
   "cell_type": "code",
   "execution_count": 5,
   "metadata": {},
   "outputs": [
    {
     "name": "stdout",
     "output_type": "stream",
     "text": [
      "<class 'pandas.core.frame.DataFrame'>\n",
      "RangeIndex: 336 entries, 0 to 335\n",
      "Data columns (total 28 columns):\n",
      " #   Column                               Non-Null Count  Dtype  \n",
      "---  ------                               --------------  -----  \n",
      " 0   Subject id                           336 non-null    int64  \n",
      " 1   Jitter (local)                       336 non-null    float64\n",
      " 2   Jitter (local absolute)              336 non-null    float64\n",
      " 3   Jitter (rap)                         336 non-null    float64\n",
      " 4   Jitter (ppq5)                        336 non-null    float64\n",
      " 5   Jitter (ddp)                         336 non-null    float64\n",
      " 6   Shimmer (local)                      336 non-null    float64\n",
      " 7   Shimmer (local dB)                   336 non-null    float64\n",
      " 8   Shimmer (apq3)                       336 non-null    float64\n",
      " 9   Shimmer (apq5)                       336 non-null    float64\n",
      " 10   Shimmer (apq11)                     336 non-null    float64\n",
      " 11  Shimmer (dda)                        336 non-null    float64\n",
      " 12  AC                                   336 non-null    float64\n",
      " 13  NTH                                  336 non-null    float64\n",
      " 14  HTN                                  336 non-null    float64\n",
      " 15  Median pitch                         336 non-null    float64\n",
      " 16  Mean pitch                           336 non-null    float64\n",
      " 17  Standard deviation                   336 non-null    float64\n",
      " 18  Minimum pitch                        336 non-null    float64\n",
      " 19  Maximum pitch                        336 non-null    float64\n",
      " 20  Number of pulses                     336 non-null    float64\n",
      " 21  Number of periods                    336 non-null    float64\n",
      " 22  Mean period                          336 non-null    float64\n",
      " 23  Standard deviation of period         336 non-null    float64\n",
      " 24  Fraction of locally unvoiced frames  336 non-null    float64\n",
      " 25  Number of voice breaks               336 non-null    float64\n",
      " 26  Degree of voice breaks               336 non-null    float64\n",
      " 27  class                                336 non-null    int64  \n",
      "dtypes: float64(26), int64(2)\n",
      "memory usage: 73.6 KB\n"
     ]
    }
   ],
   "source": [
    "t_data.info()"
   ]
  },
  {
   "cell_type": "code",
   "execution_count": 6,
   "metadata": {},
   "outputs": [
    {
     "data": {
      "text/plain": [
       "1    520\n",
       "0    520\n",
       "Name: class, dtype: int64"
      ]
     },
     "execution_count": 6,
     "metadata": {},
     "output_type": "execute_result"
    },
    {
     "data": {
      "image/png": "[encoded data removed]",
      "text/plain": [
       "<Figure size 640x480 with 1 Axes>"
      ]
     },
     "metadata": {},
     "output_type": "display_data"
    }
   ],
   "source": [
    "sns.countplot(x=\"class\", data=data)\n",
    "data['class'].value_counts()\n",
    "#0 is healthy 1 is parkison affected"
   ]
  },
  {
   "cell_type": "markdown",
   "metadata": {},
   "source": [
    "# Feature Elimination"
   ]
  },
  {
   "cell_type": "markdown",
   "metadata": {},
   "source": [
    "### Recursive Feature Elimination"
   ]
  },
  {
   "cell_type": "code",
   "execution_count": 7,
   "metadata": {},
   "outputs": [
    {
     "name": "stdout",
     "output_type": "stream",
     "text": [
      "[ True False False False False False  True False False  True  True  True\n",
      "  True False False False False False False  True  True  True False False\n",
      "  True False]\n",
      "[ 1 16 12  8  3  5  1 10  9  1  1  1  1  7 14 13 17 11 15  1  1  1  6  4\n",
      "  1  2]\n"
     ]
    }
   ],
   "source": [
    "from sklearn.svm import SVC\n",
    "from sklearn.feature_selection import RFE\n",
    "\n",
    "# Spliting the data into features and patient status and subID\n",
    "updrs = data.drop('UPDRS', axis=1) \n",
    "w = data['Subject id'] # PD patient ID\n",
    "X = data.drop(['Subject id', 'class','UPDRS'], axis=1)  # Features\n",
    "y = data['class']  # PD or No\n",
    "\n",
    "svc = SVC(kernel='linear')\n",
    "rfe = RFE(estimator=svc, n_features_to_select=10)\n",
    "\n",
    "# Fit the RFE object to the data\n",
    "rfe.fit(X, y)\n",
    "\n",
    "# Print the selected features\n",
    "print(rfe.support_)\n",
    "\n",
    "# Print the ranking of the features\n",
    "print(rfe.ranking_)\n",
    "\n",
    "# Selected features\n",
    "rdata = X.loc[:, rfe.support_]\n",
    "\n",
    "\n",
    "# print(rdata)"
   ]
  },
  {
   "cell_type": "code",
   "execution_count": 8,
   "metadata": {},
   "outputs": [
    {
     "name": "stdout",
     "output_type": "stream",
     "text": [
      "<class 'pandas.core.frame.DataFrame'>\n",
      "RangeIndex: 1040 entries, 0 to 1039\n",
      "Data columns (total 10 columns):\n",
      " #   Column                  Non-Null Count  Dtype  \n",
      "---  ------                  --------------  -----  \n",
      " 0   Jitter (local)          1040 non-null   float64\n",
      " 1   Shimmer (local dB)      1040 non-null   float64\n",
      " 2    Shimmer (apq11)        1040 non-null   float64\n",
      " 3   Shimmer (dda)           1040 non-null   float64\n",
      " 4   AC                      1040 non-null   float64\n",
      " 5   NTH                     1040 non-null   float64\n",
      " 6   Number of pulses        1040 non-null   int64  \n",
      " 7   Number of periods       1040 non-null   int64  \n",
      " 8   Mean period             1040 non-null   float64\n",
      " 9   Number of voice breaks  1040 non-null   int64  \n",
      "dtypes: float64(7), int64(3)\n",
      "memory usage: 81.4 KB\n"
     ]
    }
   ],
   "source": [
    "rdata.info()\n"
   ]
  },
  {
   "cell_type": "code",
   "execution_count": 9,
   "metadata": {},
   "outputs": [],
   "source": [
    "rdata.insert(10, \"class\", y)\n",
    "rdata.insert(0, \"Subject id\", w)\n",
    "# rdata"
   ]
  },
  {
   "cell_type": "code",
   "execution_count": 10,
   "metadata": {},
   "outputs": [
    {
     "name": "stdout",
     "output_type": "stream",
     "text": [
      "<class 'pandas.core.frame.DataFrame'>\n",
      "RangeIndex: 1040 entries, 0 to 1039\n",
      "Data columns (total 12 columns):\n",
      " #   Column                  Non-Null Count  Dtype  \n",
      "---  ------                  --------------  -----  \n",
      " 0   Subject id              1040 non-null   int64  \n",
      " 1   Jitter (local)          1040 non-null   float64\n",
      " 2   Shimmer (local dB)      1040 non-null   float64\n",
      " 3    Shimmer (apq11)        1040 non-null   float64\n",
      " 4   Shimmer (dda)           1040 non-null   float64\n",
      " 5   AC                      1040 non-null   float64\n",
      " 6   NTH                     1040 non-null   float64\n",
      " 7   Number of pulses        1040 non-null   int64  \n",
      " 8   Number of periods       1040 non-null   int64  \n",
      " 9   Mean period             1040 non-null   float64\n",
      " 10  Number of voice breaks  1040 non-null   int64  \n",
      " 11  class                   1040 non-null   int64  \n",
      "dtypes: float64(7), int64(5)\n",
      "memory usage: 97.6 KB\n"
     ]
    }
   ],
   "source": [
    "rdata.info()"
   ]
  },
  {
   "cell_type": "code",
   "execution_count": 11,
   "metadata": {},
   "outputs": [
    {
     "name": "stdout",
     "output_type": "stream",
     "text": [
      "['Subject id', 'Jitter (local)', 'Shimmer (local dB)', ' Shimmer (apq11)', 'Shimmer (dda)', 'AC', 'NTH', 'Number of pulses', 'Number of periods', 'Mean period', 'Number of voice breaks', 'class']\n",
      "<class 'list'>\n"
     ]
    }
   ],
   "source": [
    "\n",
    "t_data\n",
    "# td_c=['Subject id','Jitter (local)','Shimmer (local dB)',' Shimmer (apq11)','Shimmer (dda)','AC','NTH','Number of pulses','Number of periods','Mean period','Number of voice breaks','class']\n",
    "\n",
    "td_c=list(rdata.columns)\n",
    "\n",
    "print(td_c)\n",
    "print(type(td_c))\n",
    "\n",
    "td=t_data.loc[:,td_c]"
   ]
  },
  {
   "cell_type": "markdown",
   "metadata": {},
   "source": [
    "#### SVM"
   ]
  },
  {
   "cell_type": "code",
   "execution_count": 12,
   "metadata": {},
   "outputs": [],
   "source": [
    "from sklearn.metrics import precision_score\n",
    "from sklearn.metrics import recall_score\n",
    "from sklearn.metrics import f1_score\n",
    "from sklearn.metrics import confusion_matrix\n",
    "\n",
    "X = rdata.drop(['class'], axis=1)  # Features\n",
    "y = rdata['class'] \n",
    "\n",
    "tX = td.drop(['class'], axis=1)  # Features\n",
    "ty = td['class']"
   ]
  },
  {
   "cell_type": "code",
   "execution_count": 13,
   "metadata": {
    "scrolled": true
   },
   "outputs": [
    {
     "name": "stdout",
     "output_type": "stream",
     "text": [
      "Test accuracy: 72.02380952380952 %\n",
      "Precision: 100.0 %\n",
      "F1 Score: 83.73702422145328 %\n",
      "Recall: 72.02380952380952 %\n",
      "Confusion Matrix:\n",
      " [[    0     0]\n",
      " [ 9400 24200]]\n"
     ]
    }
   ],
   "source": [
    "# from sklearn.model_selection import train_test_split\n",
    "\n",
    "\n",
    "from sklearn.svm import SVC\n",
    "\n",
    " \n",
    "\n",
    "# X_train, X_test, y_train, y_test = train_test_split(X, y, test_size=0.2)\n",
    "\n",
    "# SVM object with the RBF kernel\n",
    "svm = SVC(kernel='rbf')\n",
    "\n",
    "# Fit the SVM to the training data\n",
    "svm.fit(X, y)\n",
    "\n",
    "# Use the SVM to predict labels for the test data\n",
    "y_pred = svm.predict(tX)\n",
    "\n",
    "# print(y_pred)\n",
    "\n",
    "# print(y_test)\n",
    "accuracy = svm.score(tX, ty)\n",
    "\n",
    "print(f'Test accuracy: {accuracy*100} %')\n",
    "\n",
    "precision = precision_score(ty, y_pred)\n",
    "print(\"Precision:\", precision*100,'%')\n",
    "\n",
    "f1 = f1_score(ty, y_pred)\n",
    "print(\"F1 Score:\",  f1*100,'%')\n",
    "\n",
    "#  recall\n",
    "recall = recall_score(ty, y_pred)\n",
    "print(\"Recall:\", recall*100,'%')\n",
    "\n",
    "# confusion matrix\n",
    "conf_matrix = confusion_matrix(ty, y_pred)\n",
    "print(\"Confusion Matrix:\\n\", conf_matrix*100,)\n"
   ]
  },
  {
   "cell_type": "code",
   "execution_count": null,
   "metadata": {},
   "outputs": [],
   "source": []
  },
  {
   "cell_type": "markdown",
   "metadata": {},
   "source": [
    "#### XgBoost"
   ]
  },
  {
   "cell_type": "code",
   "execution_count": 14,
   "metadata": {},
   "outputs": [],
   "source": [
    "import xgboost as xgb\n",
    "from sklearn.metrics import mean_squared_error\n",
    "from sklearn.metrics import accuracy_score\n"
   ]
  },
  {
   "cell_type": "code",
   "execution_count": 15,
   "metadata": {},
   "outputs": [
    {
     "name": "stdout",
     "output_type": "stream",
     "text": [
      "Accuracy: 71.42857142857143 %\n",
      "Precision: 100.0 %\n",
      "F1 Score: 83.33333333333333 %\n",
      "Recall: 71.42857142857143 %\n",
      "Confusion Matrix:\n",
      " [[    0     0]\n",
      " [ 9600 24000]]\n"
     ]
    }
   ],
   "source": [
    "import xgboost as xgb\n",
    "\n",
    "\n",
    "# DMatrix\n",
    "dtrain = xgb.DMatrix(X, label=y)\n",
    "dtest = xgb.DMatrix(tX, label=ty)\n",
    "\n",
    "# XGBoost model\n",
    "param = {\n",
    "    'max_depth': 3,\n",
    "    'eta': 0.1,\n",
    "    'objective': 'multi:softmax',\n",
    "    'num_class': 3\n",
    "}\n",
    "\n",
    "num_round = 20\n",
    "bst = xgb.train(param, dtrain, num_round)\n",
    "\n",
    "# testing\n",
    "predictions = bst.predict(dtest)\n",
    "\n",
    "# print(predictions)\n",
    "# print(y_test)\n",
    "accuracy = sum(predictions == ty) / len(ty)\n",
    "print(\"Accuracy:\", accuracy*100,'%')\n",
    "\n",
    "precision = precision_score(ty, predictions)\n",
    "print(\"Precision:\", precision*100,'%')\n",
    "\n",
    "f1 = f1_score(ty, predictions)\n",
    "print(\"F1 Score:\",  f1*100,'%')\n",
    "\n",
    "# Calculate the recallsd\n",
    "recall = recall_score(ty, predictions)\n",
    "print(\"Recall:\", recall*100,'%')\n",
    "\n",
    "# confusion matrix\n",
    "conf_matrix = confusion_matrix(ty, predictions)\n",
    "print(\"Confusion Matrix:\\n\", conf_matrix*100,)\n"
   ]
  },
  {
   "cell_type": "markdown",
   "metadata": {},
   "source": [
    "#### Ensemble"
   ]
  },
  {
   "cell_type": "code",
   "execution_count": 16,
   "metadata": {},
   "outputs": [
    {
     "name": "stdout",
     "output_type": "stream",
     "text": [
      "Accuracy: 70.83333333333334 %\n",
      "Precision: 100.0 %\n",
      "F1 Score: 82.92682926829268 %\n",
      "Recall: 70.83333333333334 %\n",
      "Confusion Matrix:\n",
      " [[    0     0]\n",
      " [ 9800 23800]]\n"
     ]
    }
   ],
   "source": [
    "from sklearn.ensemble import VotingClassifier\n",
    "\n",
    "\n",
    "# Using the trained svm kernal\n",
    "\n",
    "# # Train an XGBoost classifier\n",
    "xgb_clf = xgb.XGBClassifier()\n",
    "xgb_clf.fit(X, y)\n",
    "\n",
    "# Combine the classifiers into an ensemble\n",
    "ensemble = VotingClassifier(estimators=[('svm', svm), ('xgb', xgb_clf)], voting='hard')\n",
    "ensemble.fit(X, y)\n",
    "\n",
    "# Make predictions on the test set\n",
    "predictions = ensemble.predict(tX)\n",
    "\n",
    "# Evaluate the model\n",
    "accuracy = sum(predictions == ty) / len(ty)\n",
    "print(\"Accuracy:\", accuracy*100,'%')\n",
    "\n",
    "precision = precision_score(ty, predictions)\n",
    "print(\"Precision:\", precision*100,'%')\n",
    "\n",
    "f1 = f1_score(ty, predictions)\n",
    "print(\"F1 Score:\",  f1*100,'%')\n",
    "\n",
    "# Calculate the recall\n",
    "recall = recall_score(ty, predictions)\n",
    "print(\"Recall:\", recall*100,'%')\n",
    "\n",
    "# confusion matrix\n",
    "conf_matrix = confusion_matrix(ty, predictions)\n",
    "print(\"Confusion Matrix:\\n\", conf_matrix*100,)"
   ]
  },
  {
   "cell_type": "markdown",
   "metadata": {},
   "source": [
    "### Principal Component Analysis on RFE Data"
   ]
  },
  {
   "cell_type": "code",
   "execution_count": 17,
   "metadata": {},
   "outputs": [],
   "source": [
    "from sklearn.decomposition import PCA\n",
    "from sklearn.preprocessing import StandardScaler\n",
    "\n",
    "scaler = StandardScaler()\n",
    "X_scaled = scaler.fit_transform(X)\n",
    "\n",
    "pca = PCA(n_components=8)\n",
    "\n",
    "pca.fit(X_scaled)\n",
    "\n",
    "X_pca = pca.transform(X_scaled)\n"
   ]
  },
  {
   "cell_type": "code",
   "execution_count": 18,
   "metadata": {},
   "outputs": [
    {
     "data": {
      "text/plain": [
       "numpy.ndarray"
      ]
     },
     "execution_count": 18,
     "metadata": {},
     "output_type": "execute_result"
    }
   ],
   "source": [
    "type(X_pca)"
   ]
  },
  {
   "cell_type": "code",
   "execution_count": 19,
   "metadata": {},
   "outputs": [],
   "source": [
    "# plt.scatter(X_pca[:, 0], X_pca[:, 1], c=y, cmap='viridis')\n",
    "# plt.xlabel('PC1')\n",
    "# plt.ylabel('PC2')\n",
    "# plt.title('PCA Scatter Plot')\n",
    "# plt.colorbar()\n",
    "# plt.show()\n",
    "\n",
    "\n"
   ]
  },
  {
   "cell_type": "code",
   "execution_count": 20,
   "metadata": {},
   "outputs": [],
   "source": [
    "# corr_matrix = np.corrcoef(X_pca, rowvar=False)\n",
    "# plt.imshow(corr_matrix, cmap=\"YlGnBu\")\n",
    "# plt.colorbar()\n",
    "# plt.show()\n"
   ]
  },
  {
   "cell_type": "code",
   "execution_count": 21,
   "metadata": {},
   "outputs": [],
   "source": [
    "X_test_scaled = scaler.transform(tX)\n",
    "tX_pca = pca.transform(X_test_scaled)\n"
   ]
  },
  {
   "cell_type": "markdown",
   "metadata": {},
   "source": [
    "#### SVM"
   ]
  },
  {
   "cell_type": "code",
   "execution_count": 22,
   "metadata": {},
   "outputs": [
    {
     "name": "stdout",
     "output_type": "stream",
     "text": [
      "Test accuracy: 68.45238095238095%\n",
      "Precision: 100.0 %\n",
      "F1 Score: 81.2720848056537 %\n",
      "Recall: 68.45238095238095 %\n",
      "Confusion Matrix:\n",
      " [[    0     0]\n",
      " [10600 23000]]\n"
     ]
    }
   ],
   "source": [
    "# from sklearn.model_selection import train_test_split\n",
    "from sklearn.svm import SVC\n",
    "\n",
    "# X = rdata.drop(['class'], axis=1)  # Features\n",
    "# y = rdata['class'] \n",
    "\n",
    "# tX = td.drop(['class'], axis=1)  # Features\n",
    "# ty = td['class'] \n",
    "\n",
    "# X_train, X_test, y_train, y_test = train_test_split(X, y, test_size=0.2)\n",
    "\n",
    "# SVM object with the RBF kernel\n",
    "svm = SVC(kernel='rbf')\n",
    "\n",
    "# Fit the SVM to the training data\n",
    "svm.fit(X_pca, y)\n",
    "\n",
    "# Use the SVM to predict labels for the test data\n",
    "y_pred = svm.predict(tX_pca)\n",
    "\n",
    "# print(y_pred)\n",
    "\n",
    "# print(y_test)\n",
    "accuracy = svm.score(tX_pca, ty)\n",
    "\n",
    "print(f'Test accuracy: {accuracy*100}%')\n",
    "\n",
    "precision = precision_score(ty, y_pred)\n",
    "print(\"Precision:\", precision*100,'%')\n",
    "\n",
    "f1 = f1_score(ty, y_pred)\n",
    "print(\"F1 Score:\",  f1*100,'%')\n",
    "\n",
    "# Calculate the recall\n",
    "recall = recall_score(ty, y_pred)\n",
    "print(\"Recall:\", recall*100,'%')\n",
    "\n",
    "# confusion matrix\n",
    "conf_matrix = confusion_matrix(ty, y_pred)\n",
    "print(\"Confusion Matrix:\\n\", conf_matrix*100,)"
   ]
  },
  {
   "cell_type": "markdown",
   "metadata": {},
   "source": [
    "#### XgBoost"
   ]
  },
  {
   "cell_type": "code",
   "execution_count": 93,
   "metadata": {},
   "outputs": [
    {
     "name": "stdout",
     "output_type": "stream",
     "text": [
      "Accuracy: 66.66666666666666 %\n",
      "Precision: 100.0 %\n",
      "F1 Score: 80.0 %\n",
      "Recall: 66.66666666666666 %\n",
      "Confusion Matrix:\n",
      " [[    0     0]\n",
      " [11200 22400]]\n"
     ]
    }
   ],
   "source": [
    "import xgboost as xgb\n",
    "\n",
    "\n",
    "# DMatrix\n",
    "dtrain = xgb.DMatrix(X_pca, label=y)\n",
    "dtest = xgb.DMatrix(tX_pca, label=ty)\n",
    "\n",
    "# XGBoost model\n",
    "param = {\n",
    "    'max_depth': 7,\n",
    "    'eta': 0.6,\n",
    "    'objective': 'multi:softmax',\n",
    "    'num_class': 3\n",
    "}\n",
    "\n",
    "num_round = 5\n",
    "bst = xgb.train(param, dtrain, num_round)\n",
    "\n",
    "# testing\n",
    "predictions = bst.predict(dtest)\n",
    "\n",
    "# print(predictions)\n",
    "# print(y_test)\n",
    "accuracy = sum(predictions == ty) / len(ty)\n",
    "print(\"Accuracy:\", accuracy*100,'%')\n",
    "\n",
    "precision = precision_score(ty, predictions)\n",
    "print(\"Precision:\", precision*100,'%')\n",
    "\n",
    "f1 = f1_score(ty, predictions)\n",
    "print(\"F1 Score:\",  f1*100,'%')\n",
    "\n",
    "# Calculate the recall\n",
    "recall = recall_score(ty, predictions)\n",
    "print(\"Recall:\", recall*100,'%')\n",
    "\n",
    "# confusion matrix\n",
    "conf_matrix = confusion_matrix(ty, predictions)\n",
    "print(\"Confusion Matrix:\\n\", conf_matrix*100,)"
   ]
  },
  {
   "cell_type": "markdown",
   "metadata": {},
   "source": [
    "#### Ensemble"
   ]
  },
  {
   "cell_type": "code",
   "execution_count": 24,
   "metadata": {},
   "outputs": [
    {
     "name": "stdout",
     "output_type": "stream",
     "text": [
      "Accuracy: 64.28571428571429 %\n",
      "Precision: 100.0 %\n",
      "F1 Score: 78.26086956521739 %\n",
      "Recall: 64.28571428571429 %\n",
      "Confusion Matrix:\n",
      " [[    0     0]\n",
      " [12000 21600]]\n"
     ]
    }
   ],
   "source": [
    "from sklearn.ensemble import VotingClassifier\n",
    "\n",
    "\n",
    "# Using the trained svm kernal\n",
    "\n",
    "# # Train an XGBoost classifier\n",
    "xgb_clf = xgb.XGBClassifier()\n",
    "xgb_clf.fit(X_pca, y)\n",
    "\n",
    "# Combine the classifiers into an ensemble\n",
    "ensemble = VotingClassifier(estimators=[('svm', svm), ('xgb', xgb_clf)], voting='hard')\n",
    "ensemble.fit(X_pca, y)\n",
    "\n",
    "# Make predictions on the test set\n",
    "predictions = ensemble.predict(tX_pca)\n",
    "\n",
    "# Evaluate the model\n",
    "accuracy = sum(predictions == ty) / len(ty)\n",
    "print(\"Accuracy:\", accuracy*100,'%')\n",
    "\n",
    "precision = precision_score(ty, predictions)\n",
    "print(\"Precision:\", precision*100,'%')\n",
    "\n",
    "f1 = f1_score(ty, predictions)\n",
    "print(\"F1 Score:\",  f1*100,'%')\n",
    "\n",
    "# Calculate the recall\n",
    "recall = recall_score(ty, predictions)\n",
    "print(\"Recall:\", recall*100,'%')\n",
    "\n",
    "# confusion matrix\n",
    "conf_matrix = confusion_matrix(ty, predictions)\n",
    "print(\"Confusion Matrix:\\n\", conf_matrix*100,)"
   ]
  },
  {
   "cell_type": "code",
   "execution_count": null,
   "metadata": {},
   "outputs": [],
   "source": []
  },
  {
   "cell_type": "markdown",
   "metadata": {},
   "source": [
    "## PCA on Orginal Dataset\n"
   ]
  },
  {
   "cell_type": "code",
   "execution_count": 94,
   "metadata": {},
   "outputs": [
    {
     "name": "stdout",
     "output_type": "stream",
     "text": [
      "<class 'pandas.core.series.Series'>\n",
      "RangeIndex: 336 entries, 0 to 335\n",
      "Series name: class\n",
      "Non-Null Count  Dtype\n",
      "--------------  -----\n",
      "336 non-null    int64\n",
      "dtypes: int64(1)\n",
      "memory usage: 2.8 KB\n"
     ]
    }
   ],
   "source": [
    "w = data['Subject id'] # PD patient ID\n",
    "X = data.drop(['Subject id','class','UPDRS'], axis=1)  # Features\n",
    "y = data['class']  # PD or No\n",
    "\n",
    "tX=t_data.drop(['Subject id','class'], axis=1)\n",
    "ty=t_data['class']\n",
    "\n",
    "ty.info()"
   ]
  },
  {
   "cell_type": "code",
   "execution_count": 95,
   "metadata": {},
   "outputs": [],
   "source": [
    "from sklearn.decomposition import PCA\n",
    "from sklearn.preprocessing import StandardScaler\n",
    "\n",
    "# X = data.drop(['class'], axis=1)  # Features\n",
    "# y = data['class'] \n",
    "\n",
    "scaler = StandardScaler()\n",
    "X_scaled = scaler.fit_transform(X)\n",
    "\n",
    "pca = PCA(n_components=7)\n",
    "\n",
    "pca.fit(X_scaled)\n",
    "\n",
    "X_pca = pca.transform(X_scaled)\n",
    "\n"
   ]
  },
  {
   "cell_type": "code",
   "execution_count": 96,
   "metadata": {},
   "outputs": [],
   "source": [
    "# corr_matrix = np.corrcoef(X_pca, rowvar=False)\n",
    "# plt.imshow(corr_matrix, cmap=\"YlGnBu\")\n",
    "# plt.colorbar()\n",
    "# plt.show()"
   ]
  },
  {
   "cell_type": "code",
   "execution_count": 97,
   "metadata": {},
   "outputs": [],
   "source": [
    "X_test_scaled = scaler.transform(tX)\n",
    "tX_pca = pca.transform(X_test_scaled)\n"
   ]
  },
  {
   "cell_type": "code",
   "execution_count": 98,
   "metadata": {},
   "outputs": [
    {
     "name": "stdout",
     "output_type": "stream",
     "text": [
      "Test accuracy: 63.69047619047619%\n",
      "Precision: 100.0 %\n",
      "F1 Score: 77.81818181818181 %\n",
      "Recall: 63.69047619047619 %\n",
      "Confusion Matrix:\n",
      " [[    0     0]\n",
      " [12200 21400]]\n"
     ]
    }
   ],
   "source": [
    "# from sklearn.model_selection import train_test_split\n",
    "from sklearn.svm import SVC\n",
    "\n",
    "# X = rdata.drop(['class'], axis=1)  # Features\n",
    "# y = rdata['class'] \n",
    "\n",
    "# tX = td.drop(['class'], axis=1)  # Features\n",
    "# ty = td['class'] \n",
    "\n",
    "# X_train, X_test, y_train, y_test = train_test_split(X, y, test_size=0.2)\n",
    "\n",
    "# SVM object with the RBF kernel\n",
    "svm = SVC(kernel='linear')\n",
    "\n",
    "# Fit the SVM to the training data\n",
    "svm.fit(X_pca, y)\n",
    "\n",
    "# Use the SVM to predict labels for the test data\n",
    "y_pred = svm.predict(tX_pca)\n",
    "\n",
    "# print(y_pred)\n",
    "\n",
    "# print(y_test)\n",
    "accuracy = svm.score(tX_pca, ty)\n",
    "\n",
    "print(f'Test accuracy: {accuracy*100}%')\n",
    "\n",
    "precision = precision_score(ty, y_pred)\n",
    "print(\"Precision:\", precision*100,'%')\n",
    "\n",
    "f1 = f1_score(ty, y_pred)\n",
    "print(\"F1 Score:\",  f1*100,'%')\n",
    "\n",
    "# Calculate the recall\n",
    "recall = recall_score(ty, y_pred)\n",
    "print(\"Recall:\", recall*100,'%')\n",
    "\n",
    "# confusion matrix\n",
    "conf_matrix = confusion_matrix(ty, y_pred)\n",
    "print(\"Confusion Matrix:\\n\", conf_matrix*100,)"
   ]
  },
  {
   "cell_type": "code",
   "execution_count": 108,
   "metadata": {},
   "outputs": [
    {
     "name": "stdout",
     "output_type": "stream",
     "text": [
      "Accuracy: 66.66666666666666 %\n",
      "Precision: 100.0 %\n",
      "F1 Score: 80.0 %\n",
      "Recall: 66.66666666666666 %\n",
      "Confusion Matrix:\n",
      " [[    0     0]\n",
      " [11200 22400]]\n"
     ]
    }
   ],
   "source": [
    "import xgboost as xgb\n",
    "\n",
    "\n",
    "# DMatrix\n",
    "dtrain = xgb.DMatrix(X_pca, label=y)\n",
    "dtest = xgb.DMatrix(tX_pca, label=ty)\n",
    "\n",
    "# XGBoost model\n",
    "param = {\n",
    "    'max_depth': 7,\n",
    "    'eta': 0.6,\n",
    "    'objective': 'multi:softmax',\n",
    "    'num_class': 3\n",
    "}\n",
    "\n",
    "num_round = 5\n",
    "bst = xgb.train(param, dtrain, num_round)\n",
    "\n",
    "# testing\n",
    "predictions = bst.predict(dtest)\n",
    "\n",
    "# print(predictions)\n",
    "# print(y_test)\n",
    "accuracy = sum(predictions == ty) / len(ty)\n",
    "print(\"Accuracy:\", accuracy*100,'%')\n",
    "\n",
    "precision = precision_score(ty, predictions)\n",
    "print(\"Precision:\", precision*100,'%')\n",
    "\n",
    "f1 = f1_score(ty, predictions)\n",
    "print(\"F1 Score:\",  f1*100,'%')\n",
    "\n",
    "# Calculate the recall\n",
    "recall = recall_score(ty, predictions)\n",
    "print(\"Recall:\", recall*100,'%')\n",
    "\n",
    "# confusion matrix\n",
    "conf_matrix = confusion_matrix(ty, predictions)\n",
    "print(\"Confusion Matrix:\\n\", conf_matrix*100,)"
   ]
  },
  {
   "cell_type": "code",
   "execution_count": 124,
   "metadata": {},
   "outputs": [
    {
     "name": "stdout",
     "output_type": "stream",
     "text": [
      "Accuracy: 47.023809523809526 %\n",
      "Precision: 100.0 %\n",
      "F1 Score: 63.967611336032384 %\n",
      "Recall: 47.023809523809526 %\n",
      "Confusion Matrix:\n",
      " [[    0     0]\n",
      " [17800 15800]]\n"
     ]
    }
   ],
   "source": [
    "from sklearn.ensemble import VotingClassifier\n",
    "\n",
    "\n",
    "# Using the trained svm kernal\n",
    "\n",
    "# # Train an XGBoost classifier\n",
    "\n",
    "param = {\n",
    "    'max_depth': 12,\n",
    "    'eta': 0.9,\n",
    "    'objective': 'multi:softmax',\n",
    "    'num_class': 8\n",
    "}\n",
    "\n",
    "xgb_clf = xgb.XGBClassifier(**param)\n",
    "xgb_clf.fit(X_pca, y)\n",
    "\n",
    "# Combine the classifiers into an ensemble\n",
    "ensemble = VotingClassifier(estimators=[('svm', svm), ('xgb', xgb_clf)], voting='hard')\n",
    "ensemble.fit(X_pca, y)\n",
    "\n",
    "# Make predictions on the test set\n",
    "predictions = ensemble.predict(tX_pca)\n",
    "\n",
    "# predictions=xgb_clf.predict(tX_pca)\n",
    "\n",
    "# Evaluate the model\n",
    "accuracy = sum(predictions == ty) / len(ty)\n",
    "print(\"Accuracy:\", accuracy*100,'%')\n",
    "\n",
    "precision = precision_score(ty, predictions)\n",
    "print(\"Precision:\", precision*100,'%')\n",
    "\n",
    "f1 = f1_score(ty, predictions)\n",
    "print(\"F1 Score:\",  f1*100,'%')\n",
    "\n",
    "# Calculate the recall\n",
    "recall = recall_score(ty, predictions)\n",
    "print(\"Recall:\", recall*100,'%')\n",
    "\n",
    "# confusion matrix\n",
    "conf_matrix = confusion_matrix(ty, predictions)\n",
    "print(\"Confusion Matrix:\\n\", conf_matrix*100,)"
   ]
  },
  {
   "cell_type": "markdown",
   "metadata": {},
   "source": [
    "### L1 regularization"
   ]
  },
  {
   "cell_type": "code",
   "execution_count": 107,
   "metadata": {},
   "outputs": [],
   "source": [
    "# from sklearn.linear_model import Lasso\n",
    "# from sklearn.preprocessing import StandardScaler"
   ]
  },
  {
   "cell_type": "code",
   "execution_count": null,
   "metadata": {},
   "outputs": [],
   "source": []
  },
  {
   "cell_type": "markdown",
   "metadata": {},
   "source": [
    "\n"
   ]
  },
  {
   "cell_type": "markdown",
   "metadata": {},
   "source": []
  },
  {
   "cell_type": "code",
   "execution_count": 86,
   "metadata": {},
   "outputs": [],
   "source": [
    "# from keras.models import Sequential\n",
    "# from keras.layers import Conv2D, MaxPooling2D, Flatten, Dense"
   ]
  },
  {
   "cell_type": "code",
   "execution_count": 87,
   "metadata": {},
   "outputs": [
    {
     "name": "stdout",
     "output_type": "stream",
     "text": [
      "Metal device set to: Apple M2\n"
     ]
    },
    {
     "name": "stderr",
     "output_type": "stream",
     "text": [
      "2023-02-23 23:29:47.675362: I tensorflow/core/common_runtime/pluggable_device/pluggable_device_factory.cc:306] Could not identify NUMA node of platform GPU ID 0, defaulting to 0. Your kernel may not have been built with NUMA support.\n",
      "2023-02-23 23:29:47.675424: I tensorflow/core/common_runtime/pluggable_device/pluggable_device_factory.cc:272] Created TensorFlow device (/job:localhost/replica:0/task:0/device:GPU:0 with 0 MB memory) -> physical PluggableDevice (device: 0, name: METAL, pci bus id: <undefined>)\n"
     ]
    }
   ],
   "source": [
    "# # create a CNN model\n",
    "# model = Sequential()\n",
    "\n",
    "# # add the first convolutional layer\n",
    "# model.add(Conv2D(32, (3, 3), activation='relu', input_shape=(64, 64, 3)))\n",
    "\n",
    "# # add the max pooling layer\n",
    "# model.add(MaxPooling2D(pool_size=(2, 2)))\n",
    "\n",
    "# # add the second convolutional layer\n",
    "# model.add(Conv2D(64, (3, 3), activation='relu'))\n",
    "\n",
    "# # add another max pooling layer\n",
    "# model.add(MaxPooling2D(pool_size=(2, 2)))\n",
    "\n",
    "# # flatten the output of the convolutional layers\n",
    "# model.add(Flatten())\n",
    "\n",
    "# # add a fully connected layer with 128 neurons\n",
    "# model.add(Dense(128, activation='relu'))\n",
    "\n",
    "# # add an output layer with a softmax activation function\n",
    "# model.add(Dense(10, activation='softmax'))\n"
   ]
  },
  {
   "cell_type": "code",
   "execution_count": 92,
   "metadata": {},
   "outputs": [],
   "source": [
    "# compile the model\n",
    "model.compile(optimizer='adam', loss='categorical_crossentropy', metrics=['accuracy'])\n"
   ]
  },
  {
   "cell_type": "code",
   "execution_count": 99,
   "metadata": {},
   "outputs": [],
   "source": [
    "\n",
    "# images = X.values.astype('float32')\n",
    "# images = images.reshape(images.shape[0], 100, 100, 1)\n",
    "\n",
    "# images /= 255\n"
   ]
  },
  {
   "cell_type": "code",
   "execution_count": 93,
   "metadata": {},
   "outputs": [],
   "source": [
    "from sklearn.model_selection import train_test_split\n",
    "\n",
    "X_train, X_val, y_train, y_val = train_test_split(X, y, test_size=0.2, random_state=42)\n"
   ]
  },
  {
   "cell_type": "code",
   "execution_count": 94,
   "metadata": {},
   "outputs": [
    {
     "name": "stdout",
     "output_type": "stream",
     "text": [
      "Epoch 1/10\n"
     ]
    },
    {
     "ename": "ValueError",
     "evalue": "in user code:\n\n    File \"/Users/ikp/miniconda3/envs/PD_MRI/lib/python3.10/site-packages/keras/engine/training.py\", line 1249, in train_function  *\n        return step_function(self, iterator)\n    File \"/Users/ikp/miniconda3/envs/PD_MRI/lib/python3.10/site-packages/keras/engine/training.py\", line 1233, in step_function  **\n        outputs = model.distribute_strategy.run(run_step, args=(data,))\n    File \"/Users/ikp/miniconda3/envs/PD_MRI/lib/python3.10/site-packages/keras/engine/training.py\", line 1222, in run_step  **\n        outputs = model.train_step(data)\n    File \"/Users/ikp/miniconda3/envs/PD_MRI/lib/python3.10/site-packages/keras/engine/training.py\", line 1023, in train_step\n        y_pred = self(x, training=True)\n    File \"/Users/ikp/miniconda3/envs/PD_MRI/lib/python3.10/site-packages/keras/utils/traceback_utils.py\", line 70, in error_handler\n        raise e.with_traceback(filtered_tb) from None\n    File \"/Users/ikp/miniconda3/envs/PD_MRI/lib/python3.10/site-packages/keras/engine/input_spec.py\", line 295, in assert_input_compatibility\n        raise ValueError(\n\n    ValueError: Input 0 of layer \"sequential\" is incompatible with the layer: expected shape=(None, 64, 64, 3), found shape=(32, 11)\n",
     "output_type": "error",
     "traceback": [
      "\u001b[0;31m---------------------------------------------------------------------------\u001b[0m",
      "\u001b[0;31mValueError\u001b[0m                                Traceback (most recent call last)",
      "Cell \u001b[0;32mIn[94], line 2\u001b[0m\n\u001b[1;32m      1\u001b[0m \u001b[38;5;66;03m# train the model\u001b[39;00m\n\u001b[0;32m----> 2\u001b[0m \u001b[43mmodel\u001b[49m\u001b[38;5;241;43m.\u001b[39;49m\u001b[43mfit\u001b[49m\u001b[43m(\u001b[49m\u001b[43mX_train\u001b[49m\u001b[43m,\u001b[49m\u001b[43m \u001b[49m\u001b[43my_train\u001b[49m\u001b[43m,\u001b[49m\u001b[43m \u001b[49m\u001b[43mepochs\u001b[49m\u001b[38;5;241;43m=\u001b[39;49m\u001b[38;5;241;43m10\u001b[39;49m\u001b[43m,\u001b[49m\u001b[43m \u001b[49m\u001b[43mbatch_size\u001b[49m\u001b[38;5;241;43m=\u001b[39;49m\u001b[38;5;241;43m32\u001b[39;49m\u001b[43m,\u001b[49m\u001b[43m \u001b[49m\u001b[43mvalidation_data\u001b[49m\u001b[38;5;241;43m=\u001b[39;49m\u001b[43m(\u001b[49m\u001b[43mX_val\u001b[49m\u001b[43m,\u001b[49m\u001b[43m \u001b[49m\u001b[43my_val\u001b[49m\u001b[43m)\u001b[49m\u001b[43m)\u001b[49m\n",
      "File \u001b[0;32m~/miniconda3/envs/PD_MRI/lib/python3.10/site-packages/keras/utils/traceback_utils.py:70\u001b[0m, in \u001b[0;36mfilter_traceback.<locals>.error_handler\u001b[0;34m(*args, **kwargs)\u001b[0m\n\u001b[1;32m     67\u001b[0m     filtered_tb \u001b[38;5;241m=\u001b[39m _process_traceback_frames(e\u001b[38;5;241m.\u001b[39m__traceback__)\n\u001b[1;32m     68\u001b[0m     \u001b[38;5;66;03m# To get the full stack trace, call:\u001b[39;00m\n\u001b[1;32m     69\u001b[0m     \u001b[38;5;66;03m# `tf.debugging.disable_traceback_filtering()`\u001b[39;00m\n\u001b[0;32m---> 70\u001b[0m     \u001b[38;5;28;01mraise\u001b[39;00m e\u001b[38;5;241m.\u001b[39mwith_traceback(filtered_tb) \u001b[38;5;28;01mfrom\u001b[39;00m \u001b[38;5;28mNone\u001b[39m\n\u001b[1;32m     71\u001b[0m \u001b[38;5;28;01mfinally\u001b[39;00m:\n\u001b[1;32m     72\u001b[0m     \u001b[38;5;28;01mdel\u001b[39;00m filtered_tb\n",
      "File \u001b[0;32m/var/folders/7g/yrzpx7gj06d_xz12cybws7p00000gn/T/__autograph_generated_file3n5bqtf5.py:15\u001b[0m, in \u001b[0;36mouter_factory.<locals>.inner_factory.<locals>.tf__train_function\u001b[0;34m(iterator)\u001b[0m\n\u001b[1;32m     13\u001b[0m \u001b[38;5;28;01mtry\u001b[39;00m:\n\u001b[1;32m     14\u001b[0m     do_return \u001b[38;5;241m=\u001b[39m \u001b[38;5;28;01mTrue\u001b[39;00m\n\u001b[0;32m---> 15\u001b[0m     retval_ \u001b[38;5;241m=\u001b[39m ag__\u001b[38;5;241m.\u001b[39mconverted_call(ag__\u001b[38;5;241m.\u001b[39mld(step_function), (ag__\u001b[38;5;241m.\u001b[39mld(\u001b[38;5;28mself\u001b[39m), ag__\u001b[38;5;241m.\u001b[39mld(iterator)), \u001b[38;5;28;01mNone\u001b[39;00m, fscope)\n\u001b[1;32m     16\u001b[0m \u001b[38;5;28;01mexcept\u001b[39;00m:\n\u001b[1;32m     17\u001b[0m     do_return \u001b[38;5;241m=\u001b[39m \u001b[38;5;28;01mFalse\u001b[39;00m\n",
      "\u001b[0;31mValueError\u001b[0m: in user code:\n\n    File \"/Users/ikp/miniconda3/envs/PD_MRI/lib/python3.10/site-packages/keras/engine/training.py\", line 1249, in train_function  *\n        return step_function(self, iterator)\n    File \"/Users/ikp/miniconda3/envs/PD_MRI/lib/python3.10/site-packages/keras/engine/training.py\", line 1233, in step_function  **\n        outputs = model.distribute_strategy.run(run_step, args=(data,))\n    File \"/Users/ikp/miniconda3/envs/PD_MRI/lib/python3.10/site-packages/keras/engine/training.py\", line 1222, in run_step  **\n        outputs = model.train_step(data)\n    File \"/Users/ikp/miniconda3/envs/PD_MRI/lib/python3.10/site-packages/keras/engine/training.py\", line 1023, in train_step\n        y_pred = self(x, training=True)\n    File \"/Users/ikp/miniconda3/envs/PD_MRI/lib/python3.10/site-packages/keras/utils/traceback_utils.py\", line 70, in error_handler\n        raise e.with_traceback(filtered_tb) from None\n    File \"/Users/ikp/miniconda3/envs/PD_MRI/lib/python3.10/site-packages/keras/engine/input_spec.py\", line 295, in assert_input_compatibility\n        raise ValueError(\n\n    ValueError: Input 0 of layer \"sequential\" is incompatible with the layer: expected shape=(None, 64, 64, 3), found shape=(32, 11)\n"
     ]
    }
   ],
   "source": [
    "# train the model\n",
    "model.fit(X_train, y_train, epochs=10, batch_size=32, validation_data=(X_val, y_val))\n"
   ]
  },
  {
   "cell_type": "code",
   "execution_count": null,
   "metadata": {},
   "outputs": [],
   "source": []
  }
 ],
 "metadata": {
  "kernelspec": {
   "display_name": "Python 3",
   "language": "python",
   "name": "python3"
  },
  "language_info": {
   "codemirror_mode": {
    "name": "ipython",
    "version": 3
   },
   "file_extension": ".py",
   "mimetype": "text/x-python",
   "name": "python",
   "nbconvert_exporter": "python",
   "pygments_lexer": "ipython3",
   "version": "3.9.6 (default, Mar 10 2023, 20:16:38) \n[Clang 14.0.3 (clang-1403.0.22.14.1)]"
  },
  "vscode": {
   "interpreter": {
    "hash": "31f2aee4e71d21fbe5cf8b01ff0e069b9275f58929596ceb00d14d90e3e16cd6"
   }
  }
 },
 "nbformat": 4,
 "nbformat_minor": 2
}
